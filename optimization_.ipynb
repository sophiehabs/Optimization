{
 "cells": [
  {
   "cell_type": "code",
   "execution_count": 53,
   "metadata": {},
   "outputs": [],
   "source": [
    "from ortools.linear_solver import pywraplp\n",
    "from ortools.init import pywrapinit"
   ]
  },
  {
   "cell_type": "code",
   "execution_count": 54,
   "metadata": {},
   "outputs": [],
   "source": [
    "from data import * "
   ]
  },
  {
   "cell_type": "code",
   "execution_count": 55,
   "metadata": {},
   "outputs": [],
   "source": [
    "solver = pywraplp.Solver.CreateSolver('GLOP')\n",
    "if not solver:\n",
    "    exit"
   ]
  },
  {
   "cell_type": "code",
   "execution_count": 56,
   "metadata": {},
   "outputs": [],
   "source": [
    "foods = [solver.NumVar(0.0, solver.infinity(), item[0]) for item in data]"
   ]
  },
  {
   "cell_type": "code",
   "execution_count": 57,
   "metadata": {},
   "outputs": [],
   "source": [
    "# Create the variables x and y.\n",
    "x = solver.NumVar(0, solver.infinity(), 'x')\n",
    "y = solver.NumVar(0, solver.infinity(), 'y')\n",
    "# The parameters of NumVar are:"
   ]
  },
  {
   "cell_type": "code",
   "execution_count": 58,
   "metadata": {},
   "outputs": [
    {
     "name": "stdout",
     "output_type": "stream",
     "text": [
      "Number of variables = 79\n"
     ]
    }
   ],
   "source": [
    "print('Number of variables =', solver.NumVariables())"
   ]
  },
  {
   "cell_type": "code",
   "execution_count": 59,
   "metadata": {},
   "outputs": [],
   "source": [
    "# Let's have a look at one example 0 <= 2*x + y <= 5.\n",
    "ct = solver.Constraint(0, 5, 'ct')\n",
    "ct.SetCoefficient(x, 2)\n",
    "ct.SetCoefficient(y, 1)"
   ]
  },
  {
   "cell_type": "code",
   "execution_count": 60,
   "metadata": {},
   "outputs": [
    {
     "name": "stdout",
     "output_type": "stream",
     "text": [
      "Number of constraints = 10\n"
     ]
    }
   ],
   "source": [
    "# The constrainsts can be reprsented as arrays to make evrything easier\n",
    "# Create the constraints, one per nutrient.\n",
    "constraints = []\n",
    "for i, nutrient in enumerate(nutrients):\n",
    "    # Append one constrint per nutrient. If you look at the nutrient table,\n",
    "    # you will see that the minimum value is stored at nurient[1] (second column)\n",
    "    constraints.append(solver.Constraint(nutrient[1], solver.infinity()))\n",
    "\n",
    "    # The coefficients in this constraint are given by the 'data' table\n",
    "    # The variable for which we are creating the coefficient is foods[j]\n",
    "    # The coefficient itself has the value of the corresponding nutrient in 'data'\n",
    "    # table, which is located at position i + 3 (where i is the nutrient number)\n",
    "    for j, item in enumerate(data):\n",
    "        constraints[i].SetCoefficient(foods[j], item[i + 3])\n",
    "\n",
    "print('Number of constraints =', solver.NumConstraints())"
   ]
  },
  {
   "cell_type": "code",
   "execution_count": 61,
   "metadata": {},
   "outputs": [],
   "source": [
    "# Finally, we set the objective function\n",
    "# As usual, let's see in comments a simple objective function for two variables\n",
    "# Again, we specify the coefficients of each variable for the linear combination of all variables\n",
    "# Create the objective function, 3 * x + y.\n",
    "objective = solver.Objective()\n",
    "objective.SetCoefficient(x, 3)\n",
    "objective.SetCoefficient(y, 1)\n",
    "objective.SetMaximization()"
   ]
  },
  {
   "cell_type": "code",
   "execution_count": 62,
   "metadata": {},
   "outputs": [],
   "source": [
    "# Let's translate this to our problem\n",
    "# Objective function: Minimize the sum of foods cost. \n",
    "# The objective function is the sum of each variable (food quantity) multiplied \n",
    "# by its cost (cost is in column 3). The costs are the coefficients\n",
    "objective = solver.Objective()\n",
    "for f, food in enumerate(foods):\n",
    "    objective.SetCoefficient(food, data[f][2]) # 2 is column 3\n",
    "objective.SetMinimization()\n",
    "\n",
    "status = solver.Solve()"
   ]
  },
  {
   "cell_type": "code",
   "execution_count": 63,
   "metadata": {},
   "outputs": [
    {
     "name": "stdout",
     "output_type": "stream",
     "text": [
      "Optimal solution found\n"
     ]
    }
   ],
   "source": [
    "# Check that the problem has an optimal solution.\n",
    "if status != solver.OPTIMAL:\n",
    "    print('The problem does not have an optimal solution!')\n",
    "    if status == solver.FEASIBLE:\n",
    "        print('A potentially suboptimal solution was found.')\n",
    "    else:\n",
    "        print('The solver could not solve the problem.')\n",
    "        exit(1)\n",
    "else:\n",
    "    print('Optimal solution found')"
   ]
  },
  {
   "cell_type": "code",
   "execution_count": 64,
   "metadata": {},
   "outputs": [
    {
     "name": "stdout",
     "output_type": "stream",
     "text": [
      "\n",
      "Daily Foods:\n",
      "Lard: 47.75255356126264\n",
      "Spinach: 5.340065500821445\n",
      "Sweet Potatoes: 0.2962962962962963\n",
      "\n",
      "Optimal cost: $512.7407\n"
     ]
    }
   ],
   "source": [
    "# Display the amounts to purchase of each food.\n",
    "nutrients_result = [0] * len(nutrients)\n",
    "print('\\nDaily Foods:')\n",
    "for i, food in enumerate(foods):\n",
    "    if food.solution_value() > 0.0:\n",
    "        print('{}: {}'.format(data[i][0], food.solution_value()))\n",
    "        for j, _ in enumerate(nutrients):\n",
    "            nutrients_result[j] += data[i][j + 3] * food.solution_value()\n",
    "\n",
    "print('\\nOptimal cost: ${:.4f}'.format(objective.Value()))\n"
   ]
  },
  {
   "cell_type": "code",
   "execution_count": 67,
   "metadata": {},
   "outputs": [
    {
     "name": "stdout",
     "output_type": "stream",
     "text": [
      "\n",
      "Nutrients per day:\n",
      "Calories (kcal): (Max 2000.000) (min 2000)\n",
      "Protein (g): (Max 606.936) (min 70)\n",
      "Calcium (g): (Max 0.800) (min 0.8)\n",
      "Iron (mg): (Max 752.929) (min 12)\n",
      "Vitamin A (KIU): (Max 5000.000) (min 5000)\n",
      "Vitamin B1 (mg): (Max 32.927) (min 1.8)\n",
      "Vitamin B2 (mg): (Max 99.169) (min 2.7)\n",
      "Niacin (mg): (Max 439.578) (min 18)\n",
      "Vitamin C (mg): (Max 15278.399) (min 75)\n"
     ]
    }
   ],
   "source": [
    "print('\\nNutrients per day:')\n",
    "for i, nutrient in enumerate(nutrients):\n",
    "    print('{}: (Max {:.3f}) (min {})'.format(nutrient[0], nutrients_result[i], nutrient[1]))\n",
    "\n",
    "#Calories and nutrients do not line up - the min calories and min nutrients do but the max calories do not. \n",
    "#You cannot have a max of 2000 and a min of 2000 calories\n"
   ]
  }
 ],
 "metadata": {
  "kernelspec": {
   "display_name": "Python 3.9.13 ('base')",
   "language": "python",
   "name": "python3"
  },
  "language_info": {
   "codemirror_mode": {
    "name": "ipython",
    "version": 3
   },
   "file_extension": ".py",
   "mimetype": "text/x-python",
   "name": "python",
   "nbconvert_exporter": "python",
   "pygments_lexer": "ipython3",
   "version": "3.9.13"
  },
  "orig_nbformat": 4,
  "vscode": {
   "interpreter": {
    "hash": "40d3a090f54c6569ab1632332b64b2c03c39dcf918b08424e98f38b5ae0af88f"
   }
  }
 },
 "nbformat": 4,
 "nbformat_minor": 2
}
